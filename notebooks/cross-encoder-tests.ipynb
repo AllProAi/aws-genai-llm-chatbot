{
 "cells": [
  {
   "cell_type": "code",
   "execution_count": 19,
   "metadata": {},
   "outputs": [],
   "source": [
    "import boto3\n",
    "import json"
   ]
  },
  {
   "cell_type": "code",
   "execution_count": 20,
   "metadata": {},
   "outputs": [],
   "source": [
    "client = boto3.client(\"sagemaker-runtime\")"
   ]
  },
  {
   "cell_type": "code",
   "execution_count": 33,
   "metadata": {},
   "outputs": [],
   "source": [
    "passages=[\"This policy covers all maternity treatments\",\"the policy for maternity treatments are rare\",\"eopcnedfwfwjwecewl clkldjew\", \"\"\"iii. it requires rehabilitation for the patient or for the patient to be specially trained to cope with it iv. it continues indefinitely v. it recurs or is likely to recur 3.1.22. Intensive Care Unit means an identified section, ward or wing of a Hospital which is under the constant supervision of a dedicated Medical Practitioner(s), and which is specially equipped for the continuous monitoring and treatment of patients who are in a critical condition, or require life support facilities and where the level of care and supervision is considerably more sophisticated and intensive than in the ordinary and other wards. 3.1.23. Inpatient Care means treatment for which the Insured Person has to stay in a Hospital for more than 24 hours for a covered event. 3.1.24. Maternity Expense shall include: a. Medical Treatment Expenses traceable to childbirth (including complicated deliveries and caesarean sections incurred during Hospitalization); b. Expenses towards lawful medical termination of pregnancy during the Policy Period. 3.1.25. Medical Advice means any consultation or advice from a Medical Practitioner including the issuance of any prescription or follow-up prescription. 3.1.26. Medical Expenses means those expenses that an Insured Person has necessarily and actually incurred for medical treatment on account of Illness or Accident on the advice of a Medical Practitioner, as long as these are no more than would have been payable if the Insured Person had not been insured and no more than other Hospitals or doctors in the same locality would have charged for the same medical treatment.\"\"\"]\n",
    "\n",
    "_in=\"\"\"Does this policy covers maternity treatments?\"\"\""
   ]
  },
  {
   "cell_type": "code",
   "execution_count": 34,
   "metadata": {},
   "outputs": [],
   "source": [
    "resp = client.invoke_endpoint(EndpointName=\"RagEnginesSageMakerModelMultiAB24AEndpoint6DA7D681-RskJ0DRMw7C8\",\n",
    "        ContentType=\"application/json\",\n",
    "        Body=json.dumps(\n",
    "            {\n",
    "                \"type\": \"cross-encoder\",\n",
    "                \"model\": \"cross-encoder/ms-marco-MiniLM-L-12-v2\",\n",
    "                \"input\": _in,\n",
    "                \"passages\": passages,\n",
    "            }\n",
    "        ),)"
   ]
  },
  {
   "cell_type": "code",
   "execution_count": 35,
   "metadata": {},
   "outputs": [],
   "source": [
    "r = resp['Body'].read()"
   ]
  },
  {
   "cell_type": "code",
   "execution_count": 36,
   "metadata": {},
   "outputs": [
    {
     "data": {
      "text/plain": [
       "b'[9.817811965942383,7.058720111846924,-10.859844207763672,-1.1841994524002075]'"
      ]
     },
     "execution_count": 36,
     "metadata": {},
     "output_type": "execute_result"
    }
   ],
   "source": [
    "r"
   ]
  },
  {
   "cell_type": "code",
   "execution_count": null,
   "metadata": {},
   "outputs": [],
   "source": []
  }
 ],
 "metadata": {
  "kernelspec": {
   "display_name": "prompt-engineering-44jAZBVT-py3.10",
   "language": "python",
   "name": "python3"
  },
  "language_info": {
   "codemirror_mode": {
    "name": "ipython",
    "version": 3
   },
   "file_extension": ".py",
   "mimetype": "text/x-python",
   "name": "python",
   "nbconvert_exporter": "python",
   "pygments_lexer": "ipython3",
   "version": "3.10.6"
  }
 },
 "nbformat": 4,
 "nbformat_minor": 2
}
